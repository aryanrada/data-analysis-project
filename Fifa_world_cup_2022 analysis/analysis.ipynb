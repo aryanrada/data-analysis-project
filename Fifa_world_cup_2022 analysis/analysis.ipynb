{
 "cells": [
  {
   "cell_type": "code",
   "execution_count": null,
   "metadata": {},
   "outputs": [],
   "source": []
  }
 ],
 "metadata": {
  "kernelspec": {
   "display_name": "Python 3",
   "language": "python",
   "name": "python3"
  },
  "language_info": {
   "name": "python",
   "version": "3.7.9"
  },
  "orig_nbformat": 4,
  "vscode": {
   "interpreter": {
    "hash": "c055ad7021cb773dbc112bd205773df9d18b3e465d2742d84eeb986538e2e214"
   }
  }
 },
 "nbformat": 4,
 "nbformat_minor": 2
}
